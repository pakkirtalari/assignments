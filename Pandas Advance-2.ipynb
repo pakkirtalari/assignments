{
 "cells": [
  {
   "cell_type": "markdown",
   "id": "bbbd784b-c9c8-4d65-8e8e-3c19a24543de",
   "metadata": {},
   "source": [
    "Q1. Write a code to print the data present in the second row of the dataframe, df."
   ]
  },
  {
   "cell_type": "code",
   "execution_count": 1,
   "id": "874b831f-63df-471e-b891-569114932158",
   "metadata": {},
   "outputs": [
    {
     "name": "stdout",
     "output_type": "stream",
     "text": [
      "course_name    Machine Learning\n",
      "duration                      3\n",
      "Name: 1, dtype: object\n"
     ]
    }
   ],
   "source": [
    "import pandas as pd\n",
    "\n",
    "course_name = ['Data Science', 'Machine Learning', 'Big Data', 'Data Engineer']\n",
    "duration = [2, 3, 6, 4]\n",
    "\n",
    "df = pd.DataFrame(data={'course_name': course_name, 'duration': duration})\n",
    "\n",
    "second_row_data = df.iloc[1]\n",
    "print(second_row_data)\n"
   ]
  },
  {
   "cell_type": "markdown",
   "id": "e04ee3fe-9d99-45a7-acd1-6477e969018e",
   "metadata": {},
   "source": [
    "A2.) Both loc and iloc are used to access elements in a pandas DataFrame, but they have some differences in their usage:\n",
    "\n",
    "loc: This function is label-based. It is used to access data by specifying the row and column labels. It includes both the start and stop labels.\n",
    "\n",
    "iloc: This function is integer-based. It is used to access data by specifying the integer indices of the rows and columns. It includes the start index but excludes the stop index."
   ]
  },
  {
   "cell_type": "markdown",
   "id": "66511c26-47a2-4058-b00d-2945283dc5ab",
   "metadata": {},
   "source": [
    "Q3. Reindex the given dataframe using a variable, reindex = [3,0,1,2] and store it in the variable, new_df. Then find the output for both new_df.loc[2] and new_df.iloc[2]. Did you observe any difference in both the outputs? If so then explain it."
   ]
  },
  {
   "cell_type": "code",
   "execution_count": 2,
   "id": "c2c8074d-b926-43f1-a78a-d2ed6e7389f4",
   "metadata": {},
   "outputs": [
    {
     "name": "stdout",
     "output_type": "stream",
     "text": [
      "Output of new_df.loc[2]:\n",
      "course_name    Big Data\n",
      "duration              6\n",
      "Name: 2, dtype: object\n",
      "Output of new_df.iloc[2]:\n",
      "course_name    Machine Learning\n",
      "duration                      3\n",
      "Name: 1, dtype: object\n"
     ]
    }
   ],
   "source": [
    "reindex = [3, 0, 1, 2]\n",
    "new_df = df.reindex(reindex)\n",
    "\n",
    "loc_output = new_df.loc[2]\n",
    "iloc_output = new_df.iloc[2]\n",
    "\n",
    "print(\"Output of new_df.loc[2]:\")\n",
    "print(loc_output)\n",
    "\n",
    "print(\"Output of new_df.iloc[2]:\")\n",
    "print(iloc_output)\n"
   ]
  },
  {
   "cell_type": "markdown",
   "id": "4af9a27f-f5a4-4e15-a873-cdd4d20b5032",
   "metadata": {},
   "source": [
    "Yes, there will be a difference in the outputs. When using loc, you are accessing rows by their labels, and new_df.loc[2] will access the row with label '2'. When using iloc, you are accessing rows by their integer indices, and new_df.iloc[2] will access the row with index 2."
   ]
  },
  {
   "cell_type": "code",
   "execution_count": 7,
   "id": "e0e0fbc8-d9ae-4cbd-8f41-20f720066a08",
   "metadata": {},
   "outputs": [
    {
     "name": "stdout",
     "output_type": "stream",
     "text": [
      "Mean of each column:\n",
      "column_1    0.360241\n",
      "column_2    0.518431\n",
      "column_3    0.331857\n",
      "column_4    0.478737\n",
      "column_5    0.356503\n",
      "column_6    0.340984\n",
      "dtype: float64\n",
      "Standard deviation of column 'column_2':\n",
      "0.24410963756901147\n"
     ]
    }
   ],
   "source": [
    "import pandas as pd\n",
    "import numpy as np\n",
    "columns = ['column_1', 'column_2', 'column_3', 'column_4', 'column_5', 'column_6']\n",
    "indices = [1,2,3,4,5,6]\n",
    "#Creating a dataframe:\n",
    "df1 = pd.DataFrame(np.random.rand(6,6), columns = columns, index = indices)\n",
    "mean_of_columns = df1.mean()\n",
    "std_dev_column_2 = df1['column_2'].std()\n",
    "\n",
    "print(\"Mean of each column:\")\n",
    "print(mean_of_columns)\n",
    "\n",
    "print(\"Standard deviation of column 'column_2':\")\n",
    "print(std_dev_column_2)\n"
   ]
  },
  {
   "cell_type": "code",
   "execution_count": 8,
   "id": "fa28fc70-0867-4cc0-86de-d030036edefe",
   "metadata": {},
   "outputs": [],
   "source": [
    "\n",
    "df1.loc[2, 'column_2'] = 'replacement_string'\n",
    "\n"
   ]
  },
  {
   "cell_type": "markdown",
   "id": "a3d7c703-a239-4aeb-b2a2-1fbda37d90b9",
   "metadata": {},
   "source": [
    "Q6. What do you understand about the windows function in pandas and list the types of windows functions?\n",
    "\n",
    "In pandas, window functions are used to perform calculations across a specified range of rows related to the current row. They are often used in time series and other ordered data to calculate moving averages, rolling sums, and other aggregated measures.\n",
    "\n",
    "Some common window functions include:\n",
    "\n",
    ".rolling(): Used for calculating rolling statistics like rolling mean, rolling sum, etc.\n",
    "\n",
    ".expanding(): Used for calculating cumulative statistics that expand the window with each row.\n",
    "\n",
    ".ewm(): Used for calculating exponentially weighted statistics.\n",
    "\n",
    ".shift(): Used for shifting values within the window.\n",
    "\n",
    "Q7. Write a code to print only the current month and year at the time of answering this question."
   ]
  },
  {
   "cell_type": "code",
   "execution_count": 9,
   "id": "90ce6328-cbf6-4602-87ae-1ce28b2e01d9",
   "metadata": {},
   "outputs": [
    {
     "name": "stdout",
     "output_type": "stream",
     "text": [
      "Current Month and Year: August 2023\n"
     ]
    }
   ],
   "source": [
    "import pandas as pd\n",
    "from datetime import datetime\n",
    "\n",
    "current_date = datetime.now()\n",
    "print(\"Current Month and Year:\", current_date.strftime(\"%B %Y\"))\n"
   ]
  },
  {
   "cell_type": "code",
   "execution_count": 10,
   "id": "237a550f-12e6-4d27-96db-6a93ee5d1de4",
   "metadata": {},
   "outputs": [
    {
     "name": "stdin",
     "output_type": "stream",
     "text": [
      "Enter the first date (YYYY-MM-DD):  1998-06-01\n",
      "Enter the second date (YYYY-MM-DD):  2023-10-04\n"
     ]
    },
    {
     "name": "stdout",
     "output_type": "stream",
     "text": [
      "Time difference:\n",
      "Days: 9256\n",
      "Hours: 0\n",
      "Minutes: 0\n"
     ]
    }
   ],
   "source": [
    "import pandas as pd\n",
    "\n",
    "date_str1 = input(\"Enter the first date (YYYY-MM-DD): \")\n",
    "date_str2 = input(\"Enter the second date (YYYY-MM-DD): \")\n",
    "\n",
    "date1 = pd.to_datetime(date_str1)\n",
    "date2 = pd.to_datetime(date_str2)\n",
    "\n",
    "time_difference = date2 - date1\n",
    "\n",
    "print(\"Time difference:\")\n",
    "print(\"Days:\", time_difference.days)\n",
    "print(\"Hours:\", time_difference.seconds // 3600)\n",
    "print(\"Minutes:\", (time_difference.seconds // 60) % 60)\n"
   ]
  },
  {
   "cell_type": "code",
   "execution_count": null,
   "id": "a844bd09-c76d-4750-8b20-5876093b261a",
   "metadata": {},
   "outputs": [],
   "source": []
  }
 ],
 "metadata": {
  "kernelspec": {
   "display_name": "Python 3 (ipykernel)",
   "language": "python",
   "name": "python3"
  },
  "language_info": {
   "codemirror_mode": {
    "name": "ipython",
    "version": 3
   },
   "file_extension": ".py",
   "mimetype": "text/x-python",
   "name": "python",
   "nbconvert_exporter": "python",
   "pygments_lexer": "ipython3",
   "version": "3.10.8"
  }
 },
 "nbformat": 4,
 "nbformat_minor": 5
}
