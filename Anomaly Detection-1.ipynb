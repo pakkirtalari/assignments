{
 "cells": [
  {
   "cell_type": "markdown",
   "id": "8026c88e-c559-4af9-8e1c-6ed19ab0b306",
   "metadata": {},
   "source": [
    "Q1. What is anomaly detection and what is its purpose?\n",
    "\n",
    "A1. Anomaly detection, also known as outlier detection, is the process of identifying data points that deviate significantly from the expected or normal behavior within a dataset. Its purpose is to identify rare or unusual instances that may be indicative of potential fraud, errors, defects, or other anomalies in various applications.\n",
    "\n",
    "Q2. What are the key challenges in anomaly detection?\n",
    "\n",
    "A2. Key challenges in anomaly detection include:\n",
    "\n",
    "Lack of Labeled Anomalies: In many cases, anomalous instances are scarce, making supervised learning challenging.\n",
    "Class Imbalance: Anomalies are usually a small portion of the dataset, leading to imbalanced class distributions.\n",
    "Concept Drift: The definition of what constitutes an anomaly can change over time, requiring constant model adaptation.\n",
    "High-Dimensional Data: Traditional methods struggle with high-dimensional spaces due to the \"curse of dimensionality.\"\n",
    "Identifying Contextual Anomalies: Some anomalies are context-dependent and require domain knowledge.\n",
    "Q3. How does unsupervised anomaly detection differ from supervised anomaly detection?\n",
    "\n",
    "A3. In unsupervised anomaly detection, the algorithm learns from a dataset without labeled anomalies. It identifies outliers based on deviations from the majority. In supervised anomaly detection, the model is trained on both normal and anomalous instances, making it a classification problem. Supervised methods require labeled data for anomalies, which might be harder to obtain.\n",
    "\n",
    "Q4. What are the main categories of anomaly detection algorithms?\n",
    "\n",
    "A4. Main categories include:\n",
    "\n",
    "Statistical Methods: Based on statistical properties like mean, standard deviation, and Gaussian distributions.\n",
    "Distance-Based Methods: Measure distances between data points and their neighbors to identify outliers.\n",
    "Density-Based Methods: Identify areas of lower density as anomalies.\n",
    "Clustering-Based Methods: Treat anomalies as instances that don't belong to any cluster.\n",
    "Machine Learning Methods: Apply algorithms like SVM, Random Forest, or neural networks for anomaly detection.\n",
    "Q5. What are the main assumptions made by distance-based anomaly detection methods?\n",
    "\n",
    "A5. Distance-based methods assume that anomalies are far from normal instances. They assume that normal instances are concentrated together while anomalies are sparse and isolated.\n",
    "\n",
    "Q6. How does the LOF algorithm compute anomaly scores?\n",
    "\n",
    "A6. The Local Outlier Factor (LOF) algorithm computes anomaly scores based on the local density deviation of a data point with respect to its neighbors. It measures how isolated or clustered a data point is compared to its neighbors. Anomalies have lower LOF scores than normal points.\n",
    "\n",
    "Q7. What are the key parameters of the Isolation Forest algorithm?\n",
    "\n",
    "A7. Key parameters of the Isolation Forest algorithm are:\n",
    "\n",
    "n_estimators: Number of trees in the forest.\n",
    "max_samples: Number of samples to draw to build each tree.\n",
    "max_features: Number of features to consider when splitting a node.\n",
    "Q8. If a data point has only 2 neighbors of the same class within a radius of 0.5, what is its anomaly score using KNN with K=10?\n",
    "\n",
    "A8. The anomaly score depends on how different the local density of the data point is compared to its neighbors. With only 2 neighbors within a small radius, the local density is low, indicating a potential anomaly. The anomaly score would be relatively high.\n",
    "\n",
    "Q9. Using the Isolation Forest algorithm with 100 trees and a dataset of 3000 data points, what is the anomaly score for a data point that has an average path length of 5.0 compared to the average path length of the trees?\n",
    "\n",
    "A9. In the Isolation Forest algorithm, anomalies are identified by shorter average path lengths compared to the average path length of trees. If a data point has an average path length of 5.0, it suggests that it takes an average of 5 splits to isolate it. If this value is significantly lower than the average path length of trees (which should be higher for anomalies), the data point is likely an anomaly."
   ]
  },
  {
   "cell_type": "code",
   "execution_count": null,
   "id": "00865e4f-3030-4e8f-9631-e186659e0ecf",
   "metadata": {},
   "outputs": [],
   "source": []
  }
 ],
 "metadata": {
  "kernelspec": {
   "display_name": "Python 3 (ipykernel)",
   "language": "python",
   "name": "python3"
  },
  "language_info": {
   "codemirror_mode": {
    "name": "ipython",
    "version": 3
   },
   "file_extension": ".py",
   "mimetype": "text/x-python",
   "name": "python",
   "nbconvert_exporter": "python",
   "pygments_lexer": "ipython3",
   "version": "3.10.8"
  }
 },
 "nbformat": 4,
 "nbformat_minor": 5
}
