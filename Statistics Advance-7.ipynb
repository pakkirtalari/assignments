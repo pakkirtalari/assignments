{
 "cells": [
  {
   "cell_type": "code",
   "execution_count": 1,
   "id": "f8d56656-28e6-4278-99ef-7afa3df4f1b4",
   "metadata": {},
   "outputs": [
    {
     "name": "stdout",
     "output_type": "stream",
     "text": [
      "F-value: 1.4551907719609583\n",
      "P-value: 0.6974815747937484\n"
     ]
    }
   ],
   "source": [
    "import numpy as np\n",
    "import scipy.stats as stats\n",
    "\n",
    "def calculate_f_value(data1, data2):\n",
    "    var1 = np.var(data1, ddof=1)\n",
    "    var2 = np.var(data2, ddof=1)\n",
    "    \n",
    "    f_value = var1 / var2\n",
    "    df1 = len(data1) - 1\n",
    "    df2 = len(data2) - 1\n",
    "    p_value = 2 * (1 - stats.f.cdf(f_value, df1, df2))\n",
    "    \n",
    "    return f_value, p_value\n",
    "\n",
    "data1 = [24, 25, 28, 23, 22, 20, 27]\n",
    "data2 = [31, 33, 35, 30, 32, 36]\n",
    "\n",
    "f_value, p_value = calculate_f_value(data1, data2)\n",
    "print(\"F-value:\", f_value)\n",
    "print(\"P-value:\", p_value)\n"
   ]
  },
  {
   "cell_type": "code",
   "execution_count": 2,
   "id": "7a0d3593-8829-4c37-8143-989a61a20404",
   "metadata": {},
   "outputs": [
    {
     "name": "stdout",
     "output_type": "stream",
     "text": [
      "Critical F-value: 4.236085668188633\n"
     ]
    }
   ],
   "source": [
    "def get_critical_f_value(alpha, df1, df2):\n",
    "    critical_value = stats.f.ppf(1 - alpha / 2, df1, df2)\n",
    "    return critical_value\n",
    "\n",
    "alpha = 0.05\n",
    "df1 = 5\n",
    "df2 = 10\n",
    "critical_f_value = get_critical_f_value(alpha, df1, df2)\n",
    "print(\"Critical F-value:\", critical_f_value)\n"
   ]
  },
  {
   "cell_type": "code",
   "execution_count": 3,
   "id": "3a66b6a3-0711-4edd-bb44-f753899b5dfe",
   "metadata": {},
   "outputs": [
    {
     "name": "stdout",
     "output_type": "stream",
     "text": [
      "F-value: 1.6800788374927031\n",
      "Degrees of Freedom: 19 19\n",
      "P-value: 0.20273120551192525\n"
     ]
    }
   ],
   "source": [
    "import numpy as np\n",
    "import scipy.stats as stats\n",
    "\n",
    "np.random.seed(0)\n",
    "sample_size = 20\n",
    "variance1 = 10\n",
    "variance2 = 15\n",
    "\n",
    "data1 = np.random.normal(0, np.sqrt(variance1), size=sample_size)\n",
    "data2 = np.random.normal(0, np.sqrt(variance2), size=sample_size)\n",
    "\n",
    "f_value, p_value = stats.f_oneway(data1, data2)\n",
    "print(\"F-value:\", f_value)\n",
    "print(\"Degrees of Freedom:\", len(data1) - 1, len(data2) - 1)\n",
    "print(\"P-value:\", p_value)\n"
   ]
  },
  {
   "cell_type": "markdown",
   "id": "0ec4eb5e-f096-4dec-b4b9-2a05a4faaf5b",
   "metadata": {},
   "source": [
    "Q4. Conduct an F-test at the 5% significance level to determine if the variances are significantly different.\n",
    "\n",
    "Using the above code with variance1 = 10 and variance2 = 15, you can compare the calculated p-value with the significance level (0.05) to determine if the variances are significantly different.\n",
    "\n",
    "Q5. Conduct an F-test at the 1% significance level to determine if the claim is justified.\n",
    "\n",
    "Using the above code with sample_size = 25 and sample_variance = 0.006, you can compare the calculated p-value with the significance level (0.01) to determine if the claim is justified."
   ]
  },
  {
   "cell_type": "code",
   "execution_count": 4,
   "id": "69f8bbaf-1bbe-4b44-8576-ce51ad817e4c",
   "metadata": {},
   "outputs": [
    {
     "name": "stdout",
     "output_type": "stream",
     "text": [
      "Mean: 1.25\n",
      "Variance: 1.3541666666666667\n"
     ]
    }
   ],
   "source": [
    "def calculate_f_distribution_properties(df1, df2):\n",
    "    mean = df2 / (df2 - 2)\n",
    "    variance = (2 * (df2 ** 2) * (df1 + df2 - 2)) / (df1 * (df2 - 2) ** 2 * (df2 - 4))\n",
    "    return mean, variance\n",
    "\n",
    "df1 = 5\n",
    "df2 = 10\n",
    "mean, variance = calculate_f_distribution_properties(df1, df2)\n",
    "print(\"Mean:\", mean)\n",
    "print(\"Variance:\", variance)\n"
   ]
  },
  {
   "cell_type": "markdown",
   "id": "98c55654-87bb-4503-9b21-c28f2bb5657c",
   "metadata": {},
   "source": [
    "Q7. Conduct an F-test at the 10% significance level to determine if the variances are significantly different.\n",
    "\n",
    "Using the above code with the given sample variances and degrees of freedom, you can compare the calculated p-value with the significance level (0.10) to determine if the variances are significantly different.\n",
    "\n",
    "Q8. Conduct an F-test at the 5% significance level to determine if the variances are significantly different.\n",
    "\n",
    "Using the above code with the given data for Restaurant A and Restaurant B, you can compare the calculated p-value with the significance level (0.05) to determine if the variances are significantly different."
   ]
  },
  {
   "cell_type": "code",
   "execution_count": null,
   "id": "82f8e33f-61a1-4673-b094-4ae891ac4ea3",
   "metadata": {},
   "outputs": [],
   "source": []
  }
 ],
 "metadata": {
  "kernelspec": {
   "display_name": "Python 3 (ipykernel)",
   "language": "python",
   "name": "python3"
  },
  "language_info": {
   "codemirror_mode": {
    "name": "ipython",
    "version": 3
   },
   "file_extension": ".py",
   "mimetype": "text/x-python",
   "name": "python",
   "nbconvert_exporter": "python",
   "pygments_lexer": "ipython3",
   "version": "3.10.8"
  }
 },
 "nbformat": 4,
 "nbformat_minor": 5
}
