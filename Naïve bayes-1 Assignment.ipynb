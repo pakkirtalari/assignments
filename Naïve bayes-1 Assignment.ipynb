{
 "cells": [
  {
   "cell_type": "markdown",
   "id": "52734db3-5aa8-49b9-abc6-8c6f05d1bfb8",
   "metadata": {},
   "source": [
    "Q1. What is Bayes' theorem?\n",
    "\n",
    "Q2. What is the formula for Bayes' theorem?\n",
    "\n",
    "Q3. How is Bayes' theorem used in practice?\n",
    "\n",
    "Q4. What is the relationship between Bayes' theorem and conditional probability?\n",
    "\n",
    "Q5. How do you choose which type of Naive Bayes classifier to use for any given problem?\n",
    "\n",
    "Q6. Assignment:\n",
    "You have a dataset with two features, X1 and X2, and two possible classes, A and B. You want to use Naive\n",
    "Bayes to classify a new instance with features X1 = 3 and X2 = 4. The following table shows the frequency of\n",
    "each feature value for each class:\n",
    "\n",
    "        Class X1=1 X1=2 X1=3 X2=1 X2=2 X2=3 X2=4\n",
    "        A     3     3     4    4   3    3     3\n",
    "        B     2     2     1    2   2    2     3\n",
    "        \n",
    "Assuming equal prior probabilities for each class, which class would Naive Bayes predict the new instance\n",
    "to belong to?"
   ]
  },
  {
   "cell_type": "markdown",
   "id": "276c3894-dbdd-4638-9540-cbbd446c30a8",
   "metadata": {},
   "source": [
    "1. What is Bayes' theorem?\n",
    "\n",
    "Bayes' theorem, named after the Reverend Thomas Bayes, is a fundamental theorem in probability theory and statistics. It describes the relationship between conditional probabilities of events, allowing us to update our beliefs about an event based on new evidence or information. The theorem is often used in various fields, including statistics, machine learning, and artificial intelligence, for tasks such as classification, inference, and decision-making.\n"
   ]
  },
  {
   "cell_type": "markdown",
   "id": "00d2ad49-b692-4372-bbee-7d6b1e114cd5",
   "metadata": {},
   "source": [
    "Q2. What is the formula for Bayes' theorem?\n",
    "\n",
    "Mathematically, Bayes' theorem is expressed as:\n",
    "\n",
    "P(A∣B)= \n",
    "P(B)\n",
    "P(B∣A)⋅P(A)\n",
    " \n",
    "Where:\n",
    "\n",
    "P(A∣B) represents the probability of event A occurring given that event B has occurred.\n",
    "P(B∣A) represents the probability of event B occurring given that event A has occurred.\n",
    "P(A) is the prior probability of event A occurring.\n",
    "P(B) is the prior probability of event B occurring.\n",
    "\n",
    "In the context of machine learning and classification, Bayes' theorem is often used in the form of the Naive Bayes classifier, which is a probabilistic classifier based on the application of Bayes' theorem. Naive Bayes classifiers assume that features are independent given the class label, which simplifies calculations and makes the algorithm efficient for many applications, especially text classification and spam filtering.\n",
    "\n",
    "Bayes' theorem provides a framework for combining prior knowledge (represented by \n",
    "\n",
    "P(A)) with observed evidence (represented by \n",
    "\n",
    "P(B∣A)) to make more informed decisions or predictions about events. It's a cornerstone of Bayesian statistics and probabilistic reasoning."
   ]
  },
  {
   "cell_type": "markdown",
   "id": "3781c99e-d8c9-40a1-9e16-ac0f9c17e4d4",
   "metadata": {},
   "source": [
    "Q3. How is Bayes' theorem used in practice?\n",
    "\n",
    "Bayes' theorem is used in practice to make informed decisions, update beliefs, and perform various tasks that involve uncertainty and probabilistic reasoning. Here are some common ways Bayes' theorem is applied in practice:\n",
    "\n",
    "Medical Diagnostics: Bayes' theorem is used in medical diagnosis to update the probability of a disease given certain symptoms. For instance, a doctor can use prior probabilities of diseases and the likelihood of observing specific symptoms to estimate the probability of a patient having a certain condition.\n",
    "\n",
    "Spam Filtering: In email filtering, Bayes' theorem is applied to classify emails as spam or non-spam based on the presence of certain keywords. The theorem helps update the probabilities of an email being spam or not, given the occurrence of specific words.\n",
    "\n",
    "Text Classification: In natural language processing, Bayes' theorem is used for text classification tasks like sentiment analysis, topic classification, and document categorization. It helps classify text documents into different categories based on the probabilities of certain words appearing in those categories.\n",
    "\n",
    "Machine Learning: Naive Bayes classifiers are used in machine learning for classification tasks. These classifiers assume that features are conditionally independent given the class label. They are commonly used in text and image classification problems.\n",
    "\n",
    "Search Engines: Search engines use Bayes' theorem to rank search results based on relevance. It helps update the probability that a document is relevant to a user's query based on the terms in the query and their presence in the document.\n",
    "\n",
    "Predictive Modeling: In predictive modeling, Bayes' theorem can be used to update prior beliefs about model parameters based on observed data. It's widely used in Bayesian statistics for parameter estimation.\n",
    "\n",
    "Financial Analysis: Bayes' theorem is applied in finance for risk assessment and portfolio management. It helps update the probabilities of different financial outcomes based on new market information.\n",
    "\n",
    "A/B Testing: When conducting A/B tests to compare two different versions of a product, Bayes' theorem can be used to update the probabilities of one version being better than the other as new data is collected."
   ]
  },
  {
   "cell_type": "markdown",
   "id": "50b5c7bf-ddf8-4ecd-bcfa-efc420df82b7",
   "metadata": {},
   "source": [
    "Q4. What is the relationship between Bayes' theorem and conditional probability?\n",
    "\n",
    "Relationship between Bayes' Theorem and Conditional Probability:\n",
    "The relationship between Bayes' theorem and conditional probability is that Bayes' theorem allows you to update a conditional probability (\n",
    "\n",
    "P(A∣B)) using the reverse conditional probability (P(B∣A)) and prior probabilities (P(A) and  P(B)).\n",
    "\n",
    "Bayes' theorem is often used to switch the roles of cause and effect in conditional probability. It helps you transition from knowing the probability of event B given event A to calculating the probability of event A given event B. In other words, Bayes' theorem provides a framework to update beliefs or probabilities based on new evidence, which is a key aspect of conditional probability."
   ]
  },
  {
   "cell_type": "markdown",
   "id": "13fbe56e-e153-4a4e-afa2-ea76aa8f65b6",
   "metadata": {},
   "source": [
    "Q5. How do you choose which type of Naive Bayes classifier to use for any given problem?\n",
    "\n",
    "Choosing the appropriate type of Naive Bayes classifier for a given problem depends on the characteristics of your data and the assumptions that best align with the underlying distribution of the features. There are three main types of Naive Bayes classifiers: Gaussian Naive Bayes, Multinomial Naive Bayes, and Bernoulli Naive Bayes. Let's explore when to use each type:\n",
    "\n",
    "Gaussian Naive Bayes:\n",
    "\n",
    "Type of Data: Gaussian Naive Bayes is suitable when your features follow a continuous distribution, typically Gaussian (bell-shaped curve).\n",
    "Examples: It's commonly used for problems involving continuous data, such as predicting the age, height, or weight of individuals.\n",
    "Multinomial Naive Bayes:\n",
    "\n",
    "Type of Data: Multinomial Naive Bayes is appropriate when dealing with features that represent counts or frequencies, typically in the form of discrete values.\n",
    "Examples: It's often used for text classification tasks where features are word frequencies or presence/absence in documents.\n",
    "Bernoulli Naive Bayes:\n",
    "\n",
    "Type of Data: Bernoulli Naive Bayes is suitable when dealing with binary or boolean features, where each feature can be present (1) or absent (0).\n",
    "Examples: It's commonly used for document classification tasks where features represent the presence or absence of words in documents.\n",
    "Choosing the right type of Naive Bayes classifier involves considering the nature of your data and how it aligns with the assumptions of each classifier:\n",
    "\n",
    "Gaussian Naive Bayes: Choose this if your features have continuous values that roughly follow a Gaussian distribution. It's suitable for numeric features.\n",
    "\n",
    "Multinomial Naive Bayes: Choose this for discrete features that represent counts or frequencies. It's commonly used for text and document-related tasks.\n",
    "\n",
    "Bernoulli Naive Bayes: Choose this for binary or boolean features. It's suitable when dealing with presence/absence data.\n",
    "\n",
    "Remember, the term \"naive\" in Naive Bayes refers to the assumption of feature independence, which might not always hold true in real-world scenarios. Despite its simplifying assumptions, Naive Bayes can perform surprisingly well in many cases, especially when you have limited data or need a fast and efficient classification algorithm.\n",
    "\n",
    "The choice of Naive Bayes type should be guided by your understanding of your data's characteristics and the problem you're trying to solve. Experimentation and evaluating model performance using cross-validation can help you make an informed decision about which type of Naive Bayes classifier to use for your specific problem.\n"
   ]
  },
  {
   "cell_type": "markdown",
   "id": "bba0bf7c-bd7e-4ace-a42d-cd90c81e6890",
   "metadata": {},
   "source": [
    "Q6. Assignment:\n",
    "You have a dataset with two features, X1 and X2, and two possible classes, A and B. You want to use Naive\n",
    "Bayes to classify a new instance with features X1 = 3 and X2 = 4. The following table shows the frequency of\n",
    "each feature value for each class:\n",
    "\n",
    "        Class X1=1 X1=2 X1=3 X2=1 X2=2 X2=3 X2=4\n",
    "        A     3     3     4    4   3    3     3\n",
    "        B     2     2     1    2   2    2     3\n",
    "        \n",
    "Assuming equal prior probabilities for each class, which class would Naive Bayes predict the new instance\n",
    "to belong to?"
   ]
  },
  {
   "cell_type": "markdown",
   "id": "df5f3a42-0576-4ec7-b135-2f10da531be0",
   "metadata": {},
   "source": [
    "To predict the class of the new instance using Naive Bayes, we need to calculate the conditional probabilities of each class given the feature values X1=3 and X2=4, and then choose the class with the highest conditional probability.\n",
    "\n",
    "Given the equal prior probabilities for each class, the prediction can be simplified to comparing the likelihoods of the two classes. The likelihood of each class is the product of the conditional probabilities of its feature values.\n",
    "\n",
    "Let's calculate the conditional probabilities and make the prediction:\n",
    "\n",
    "For Class A:\n",
    "\n",
    "P(X1=3 | A) = 4/13\n",
    "P(X2=4 | A) = 3/13\n",
    "Likelihood of A = P(X1=3 | A) * P(X2=4 | A) = (4/13) * (3/13) = 12/169\n",
    "For Class B:\n",
    "\n",
    "P(X1=3 | B) = 1/7\n",
    "P(X2=4 | B) = 3/7\n",
    "Likelihood of B = P(X1=3 | B) * P(X2=4 | B) = (1/7) * (3/7) = 3/49\n",
    "Since we assume equal prior probabilities for each class, the prediction is based on the likelihoods only. Comparing the likelihoods, we see that the likelihood of Class A (12/169) is greater than the likelihood of Class B (3/49). Therefore, Naive Bayes would predict the new instance to belong to Class A."
   ]
  },
  {
   "cell_type": "code",
   "execution_count": null,
   "id": "c9384237-746f-4cff-9b0e-cd4b8ce2287d",
   "metadata": {},
   "outputs": [],
   "source": []
  }
 ],
 "metadata": {
  "kernelspec": {
   "display_name": "Python 3 (ipykernel)",
   "language": "python",
   "name": "python3"
  },
  "language_info": {
   "codemirror_mode": {
    "name": "ipython",
    "version": 3
   },
   "file_extension": ".py",
   "mimetype": "text/x-python",
   "name": "python",
   "nbconvert_exporter": "python",
   "pygments_lexer": "ipython3",
   "version": "3.10.8"
  }
 },
 "nbformat": 4,
 "nbformat_minor": 5
}
