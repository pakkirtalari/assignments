{
 "cells": [
  {
   "cell_type": "markdown",
   "id": "bad07837-4cea-44dd-b802-c78a95fbe784",
   "metadata": {},
   "source": [
    "Q1. Explain the assumptions required to use ANOVA and provide examples of violations that could impact the validity of the results.\n",
    "\n",
    "Assumptions of ANOVA:\n",
    "\n",
    "Normality: The residuals within each group should be approximately normally distributed.\n",
    "Homogeneity of variances (Homoscedasticity): The variance of residuals should be approximately equal across all groups.\n",
    "Independence: Observations within each group should be independent of each other.\n",
    "Violations and Impacts:\n",
    "\n",
    "Violation of Normality: If residuals are not normally distributed, the F-test results may be inaccurate, leading to incorrect conclusions.\n",
    "Violation of Homogeneity of Variances: Unequal variances can lead to incorrect p-values and confidence intervals, affecting the validity of results.\n",
    "Violation of Independence: If observations within groups are not independent, the assumption of non-independence could lead to inflated type I error rates.\n",
    "Q2. What are the three types of ANOVA, and in what situations would each be used?\n",
    "\n",
    "One-Way ANOVA: Used to compare means of three or more groups for a single categorical independent variable.\n",
    "Two-Way ANOVA: Used to study the effect of two independent variables (factors) on a dependent variable.\n",
    "Repeated Measures ANOVA: Used when measurements are taken on the same subjects at multiple time points or under different conditions.\n",
    "Q3. What is the partitioning of variance in ANOVA, and why is it important to understand this concept?\n",
    "\n",
    "Partitioning of Variance: ANOVA breaks down the total variance in the data into different components due to various sources of variation, such as between-groups, within-groups, and error.\n",
    "\n",
    "Understanding this concept is important because it helps to quantify the contributions of different factors to the overall variance, allowing us to determine if the differences between group means are statistically significant.\n",
    "\n",
    "Q4. How would you calculate the total sum of squares (SST), explained sum of squares (SSE), and residual sum of squares (SSR) in a one-way ANOVA using Python?"
   ]
  },
  {
   "cell_type": "code",
   "execution_count": null,
   "id": "f1ccadde-1698-4690-9bcc-3aa846243ede",
   "metadata": {},
   "outputs": [],
   "source": [
    "import numpy as np\n",
    "import scipy.stats as stats\n",
    "\n",
    "data = [group1_data, group2_data, group3_data, ...]  # List of arrays for each group\n",
    "\n",
    "grand_mean = np.mean(np.concatenate(data))\n",
    "sst = sum((group - grand_mean)**2 for group in data)\n",
    "sse = sum(sum((x - np.mean(group))**2 for x in group) for group in data)\n",
    "ssr = sst - sse\n"
   ]
  },
  {
   "cell_type": "markdown",
   "id": "6ac52213-cde8-49a7-bdca-ae85c2afdf72",
   "metadata": {},
   "source": [
    "Q5. In a two-way ANOVA, how would you calculate the main effects and interaction effects using Python?\n",
    "\n",
    "You can perform a two-way ANOVA using libraries like statsmodels and then analyze the main effects and interaction effects. Here's how you might do it:"
   ]
  },
  {
   "cell_type": "code",
   "execution_count": null,
   "id": "6b32b3ca-0d1c-450f-8cd3-35f7c3ec3eab",
   "metadata": {},
   "outputs": [],
   "source": [
    "import statsmodels.api as sm\n",
    "from statsmodels.formula.api import ols\n",
    "\n",
    "model = ols('dependent_var ~ C(factor1) * C(factor2)', data=df).fit()\n",
    "anova_table = sm.stats.anova_lm(model, typ=2)\n",
    "\n",
    "main_effect_factor1 = anova_table['sum_sq']['C(factor1)']\n",
    "main_effect_factor2 = anova_table['sum_sq']['C(factor2)']\n",
    "interaction_effect = anova_table['sum_sq']['C(factor1):C(factor2)']\n"
   ]
  },
  {
   "cell_type": "markdown",
   "id": "8a2ec6df-60c4-434d-94d5-52c2cda52a15",
   "metadata": {},
   "source": [
    "Q6. Suppose you conducted a one-way ANOVA and obtained an F-statistic of 5.23 and a p-value of 0.02. What can you conclude about the differences between the groups, and how would you interpret these results?\n",
    "\n",
    "With a low p-value (0.02), you can conclude that there are statistically significant differences between at least some of the group means. However, the F-statistic alone doesn't tell you which groups are significantly different. You would need to perform post-hoc tests to determine which specific group(s) differ from each other.\n",
    "\n",
    "Q7. In a repeated measures ANOVA, how would you handle missing data, and what are the potential consequences of using different methods to handle missing data?\n",
    "\n",
    "Handling missing data in repeated measures ANOVA can be challenging. Some methods include imputation, deletion, or using mixed-effects models. Different methods can lead to biased estimates, reduced statistical power, or incorrect conclusions if not handled appropriately.\n",
    "\n",
    "Q8. What are some common post-hoc tests used after ANOVA, and when would you use each one? Provide an example of a situation where a post-hoc test might be necessary.\n",
    "\n",
    "Common post-hoc tests include Tukey's HSD, Bonferroni, and Scheffe tests. They are used to compare group means after obtaining a significant result in ANOVA. For example, if you find a significant difference in a one-way ANOVA, you might use Tukey's HSD to determine which specific pairs of groups have significantly different means.\n",
    "\n",
    "Q9. A researcher wants to compare the mean weight loss of three diets: A, B, and C. They collect data from 50 participants who were randomly assigned to one of the diets. Conduct a one-way ANOVA using Python to determine if there are any significant differences between the mean weight loss of the three diets. Report the F-statistic and p-value, and interpret the results.\n",
    "\n",
    "To conduct a one-way ANOVA in Python, you can use the scipy.stats.f_oneway function. Here's an example:"
   ]
  },
  {
   "cell_type": "code",
   "execution_count": null,
   "id": "53c6b79d-ec9f-46e7-8036-d4ca91ec8d2c",
   "metadata": {},
   "outputs": [],
   "source": [
    "import numpy as np\n",
    "import scipy.stats as stats\n",
    "\n",
    "diet_A = np.array([...])  # Weight loss data for Diet A\n"
   ]
  }
 ],
 "metadata": {
  "kernelspec": {
   "display_name": "Python 3 (ipykernel)",
   "language": "python",
   "name": "python3"
  },
  "language_info": {
   "codemirror_mode": {
    "name": "ipython",
    "version": 3
   },
   "file_extension": ".py",
   "mimetype": "text/x-python",
   "name": "python",
   "nbconvert_exporter": "python",
   "pygments_lexer": "ipython3",
   "version": "3.10.8"
  }
 },
 "nbformat": 4,
 "nbformat_minor": 5
}
