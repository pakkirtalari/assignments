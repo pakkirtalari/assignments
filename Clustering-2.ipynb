{
 "cells": [
  {
   "cell_type": "markdown",
   "id": "7add8dd2-e851-423e-9881-a7b4c8e43167",
   "metadata": {},
   "source": [
    "Q1. What is hierarchical clustering, and how is it different from other clustering techniques?\n",
    "\n",
    "A1. Hierarchical clustering is a clustering technique that creates a hierarchical representation of data by iteratively merging or splitting clusters. It creates a tree-like structure of clusters, known as a dendrogram. Unlike K-means, hierarchical clustering doesn't require a predefined number of clusters and provides a broader view of the data's structure.\n",
    "\n",
    "Q2. What are the two main types of hierarchical clustering algorithms? Describe each in brief.\n",
    "\n",
    "A2. The two main types of hierarchical clustering are:\n",
    "\n",
    "Agglomerative Hierarchical Clustering: Starts with individual data points as clusters and iteratively merges them into larger clusters based on a linkage criterion.\n",
    "Divisive Hierarchical Clustering: Starts with the entire dataset as a single cluster and recursively divides clusters into smaller ones.\n",
    "Q3. How do you determine the distance between two clusters in hierarchical clustering, and what are the common distance metrics used?\n",
    "\n",
    "A3. The distance between two clusters is determined by a linkage criterion that measures the dissimilarity between clusters. Common distance metrics include:\n",
    "\n",
    "Single Linkage: Minimum distance between any pair of points in the two clusters.\n",
    "Complete Linkage: Maximum distance between any pair of points in the two clusters.\n",
    "Average Linkage: Average distance between all pairs of points in the two clusters.\n",
    "Centroid Linkage: Distance between the centroids of the clusters.\n",
    "Q4. How do you determine the optimal number of clusters in hierarchical clustering, and what are some common methods used for this purpose?\n",
    "\n",
    "A4. Determining the optimal number of clusters is typically done using dendrograms. Common methods include:\n",
    "\n",
    "Visual Inspection of Dendrogram: Looking for a point where clusters merge into a small number.\n",
    "Cutting the Dendrogram: Cutting the dendrogram at a certain height to get a desired number of clusters.\n",
    "Inconsistency Method: Measures the ratio between the height of a branch and the average inconsistency of the cluster.\n",
    "Q5. What are dendrograms in hierarchical clustering, and how are they useful in analyzing the results?\n",
    "\n",
    "A5. Dendrograms are tree-like structures that display the order and distances of cluster merges in hierarchical clustering. They are useful for visualizing the clustering process, identifying the optimal number of clusters, and interpreting relationships between data points.\n",
    "\n",
    "Q6. Can hierarchical clustering be used for both numerical and categorical data? If yes, how are the distance metrics different for each type of data?\n",
    "\n",
    "A6. Yes, hierarchical clustering can be used for both numerical and categorical data. For numerical data, distance metrics like Euclidean distance or Manhattan distance can be used. For categorical data, methods like Gower's similarity coefficient or Jaccard coefficient are used, which take into account the similarity or dissimilarity of categorical attributes.\n",
    "\n",
    "Q7. How can you use hierarchical clustering to identify outliers or anomalies in your data?\n",
    "\n",
    "A7. Hierarchical clustering can help identify outliers by forming a structure where outliers are relatively distant from other data points. Points that form singleton clusters at a certain height in the dendrogram or have high dissimilarity with other points might be considered outliers. However, the effectiveness of hierarchical clustering for outlier detection depends on the data and distance metric used."
   ]
  },
  {
   "cell_type": "code",
   "execution_count": null,
   "id": "a3a8851c-a818-4b10-ad28-16db762b8353",
   "metadata": {},
   "outputs": [],
   "source": []
  }
 ],
 "metadata": {
  "kernelspec": {
   "display_name": "Python 3 (ipykernel)",
   "language": "python",
   "name": "python3"
  },
  "language_info": {
   "codemirror_mode": {
    "name": "ipython",
    "version": 3
   },
   "file_extension": ".py",
   "mimetype": "text/x-python",
   "name": "python",
   "nbconvert_exporter": "python",
   "pygments_lexer": "ipython3",
   "version": "3.10.8"
  }
 },
 "nbformat": 4,
 "nbformat_minor": 5
}
