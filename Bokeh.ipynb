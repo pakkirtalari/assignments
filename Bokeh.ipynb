{
 "cells": [
  {
   "cell_type": "markdown",
   "id": "95fef9db-2288-443a-a4cc-8833f0e9ca99",
   "metadata": {},
   "source": [
    "Q1. How can you create a Bokeh plot using Python code?\n",
    "\n",
    "You can create a Bokeh plot using Python code by importing the necessary modules from the Bokeh library and using various functions and classes provided by Bokeh. Here's a general outline of creating a simple Bokeh plot:"
   ]
  },
  {
   "cell_type": "code",
   "execution_count": 1,
   "id": "669f23ec-cdb6-46fd-9504-4b77fb77bc96",
   "metadata": {},
   "outputs": [],
   "source": [
    "from bokeh.plotting import figure, output_file, show\n",
    "\n",
    "# Create a figure\n",
    "p = figure(title=\"My Bokeh Plot\", x_axis_label=\"X-axis\", y_axis_label=\"Y-axis\")\n",
    "\n",
    "# Add glyphs (shapes/data points) to the figure\n",
    "p.circle([1, 2, 3, 4, 5], [6, 7, 2, 4, 5], size=15, color=\"blue\", alpha=0.5)\n",
    "\n",
    "# Specify the output file\n",
    "output_file(\"bokeh_plot.html\")\n",
    "\n",
    "# Show the plot in a browser\n",
    "show(p)\n"
   ]
  },
  {
   "cell_type": "markdown",
   "id": "11957318-71cb-4602-bdb0-4a3a88d4b2d5",
   "metadata": {},
   "source": [
    "Q2. What are glyphs in Bokeh, and how can you add them to a Bokeh plot? Explain with an example.\n",
    "\n",
    "Glyphs in Bokeh are visual shapes or markers used to represent data points in a plot. They can include circles, squares, triangles, lines, and more. You can add glyphs to a Bokeh plot using glyph methods like circle(), square(), line(), etc.\n",
    "\n",
    "Here's an example of adding circles and a line to a Bokeh plot:"
   ]
  },
  {
   "cell_type": "code",
   "execution_count": 2,
   "id": "6bdfecd3-0f18-4c49-b9ed-4fd208becbaf",
   "metadata": {},
   "outputs": [],
   "source": [
    "from bokeh.plotting import figure, output_file, show\n",
    "\n",
    "# Create a figure\n",
    "p = figure(title=\"Glyph Example\", x_axis_label=\"X-axis\", y_axis_label=\"Y-axis\")\n",
    "\n",
    "# Add circles\n",
    "p.circle([1, 2, 3, 4, 5], [6, 7, 2, 4, 5], size=15, color=\"blue\", alpha=0.5, legend_label=\"Circles\")\n",
    "\n",
    "# Add a line\n",
    "p.line([1, 2, 3, 4, 5], [6, 7, 2, 4, 5], line_width=2, color=\"red\", alpha=0.8, legend_label=\"Line\")\n",
    "\n",
    "# Specify the output file\n",
    "output_file(\"glyph_example.html\")\n",
    "\n",
    "# Show the plot in a browser\n",
    "show(p)\n"
   ]
  },
  {
   "cell_type": "markdown",
   "id": "d108a8ff-eab2-4034-8167-73953ff71484",
   "metadata": {},
   "source": [
    "Q3. How can you customize the appearance of a Bokeh plot, including the axes, title, and legend?\n",
    "\n",
    "You can customize the appearance of a Bokeh plot using various attributes and methods of the figure (p in the example above). For example:\n",
    "\n",
    "To customize axes: Use p.xaxis and p.yaxis to set properties like labels, tick labels, and more.\n",
    "To customize the title: Use p.title to set the plot's title.\n",
    "To customize the legend: Use p.legend to customize the legend's position, orientation, and more.\n",
    "Q4. What is a Bokeh server, and how can you use it to create interactive plots that can be updated in real time?\n",
    "\n",
    "The Bokeh server is a tool that allows you to create interactive Bokeh plots that can be updated in real-time as users interact with them. You can define Python callback functions that respond to changes in the plot's data, user interactions, or other events. The Bokeh server then automatically updates the plot in the browser.\n",
    "\n",
    "To use the Bokeh server, you need to install the bokeh package and create a Python script that defines your plot and the necessary callback functions. You run the script using the bokeh serve command, and the plot becomes interactive in the browser.\n",
    "\n",
    "Q5. How can you embed a Bokeh plot into a web page or dashboard using Flask or Django?\n",
    "\n",
    "You can embed a Bokeh plot into a web page or dashboard using frameworks like Flask or Django by following these general steps:\n",
    "\n",
    "Create a Bokeh plot using Python code as shown earlier.\n",
    "Use the components() function from bokeh.embed to generate HTML and JavaScript code for the plot.\n",
    "Incorporate the generated code into your HTML template in Flask or Django.\n",
    "Here's a high-level example using Flask:"
   ]
  },
  {
   "cell_type": "code",
   "execution_count": null,
   "id": "4e6ad37c-ae1b-46c9-a701-5509deb8b4e3",
   "metadata": {},
   "outputs": [],
   "source": [
    "from flask import Flask, render_template\n",
    "from bokeh.plotting import figure\n",
    "from bokeh.embed import components\n",
    "\n",
    "app = Flask(__name__)\n",
    "\n",
    "@app.route('/')\n",
    "def index():\n",
    "    # Create a Bokeh plot\n",
    "    p = figure(title=\"Bokeh Plot Example\", x_axis_label=\"X-axis\", y_axis_label=\"Y-axis\")\n",
    "    p.circle([1, 2, 3, 4, 5], [6, 7, 2, 4, 5], size=15, color=\"blue\", alpha=0.5)\n",
    "\n",
    "    # Get components for embedding\n",
    "    script, div = components(p)\n",
    "\n",
    "    return render_template('index.html', plot_script=script, plot_div=div)\n",
    "\n",
    "if __name__ == '__main__':\n",
    "    app.run(debug=True)\n"
   ]
  },
  {
   "cell_type": "code",
   "execution_count": null,
   "id": "cd2a1535-1e5b-46b6-a6e0-f3e5acc94dbd",
   "metadata": {},
   "outputs": [],
   "source": []
  }
 ],
 "metadata": {
  "kernelspec": {
   "display_name": "Python 3 (ipykernel)",
   "language": "python",
   "name": "python3"
  },
  "language_info": {
   "codemirror_mode": {
    "name": "ipython",
    "version": 3
   },
   "file_extension": ".py",
   "mimetype": "text/x-python",
   "name": "python",
   "nbconvert_exporter": "python",
   "pygments_lexer": "ipython3",
   "version": "3.10.8"
  }
 },
 "nbformat": 4,
 "nbformat_minor": 5
}
