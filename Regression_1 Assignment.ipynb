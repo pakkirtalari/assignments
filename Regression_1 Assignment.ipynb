{
 "cells": [
  {
   "cell_type": "markdown",
   "id": "a3d9236f-6935-4228-9b27-f44aefe140c8",
   "metadata": {},
   "source": [
    "Q1. Explain the difference between simple linear regression and multiple linear regression. Provide an example of each.\n",
    "\n",
    "    Simple Linear Regression: The association between two variables is established using a straight line in Simple Linear Regression. It tries to create a line that is as near to the data as possible by determining the slope and intercept, which define the line and reduce regression errors. There is a single x and y variable  \n",
    "    Equation: Y = mX+c \n",
    "\n",
    "    Multiple Linear Regression: Multiple linear regressions are based on the presumption that both the dependent and independent variables, or Predictor and Target variables, have a linear relationship. There are two types of multilinear regressions: linear and nonlinear. It has one or more x variables and one or more y variables, or one dependent variable and two or more independent variables \n",
    "    Equation: Y = m1X1+m2X2+m3X3+..c \n",
    "\n",
    "    Where, \n",
    "\n",
    "    Y = Dependent Variable \n",
    "    m = Slope  \n",
    "    X = Independent Variable \n",
    "    c = Intercept \n",
    "    \n",
    "    For instance, when we predict rent based on square feet alone that is simple linear regression. \n",
    "    When we predict rent based on square feet and age of the building that is an example of multiple linear regression."
   ]
  },
  {
   "cell_type": "markdown",
   "id": "8b1ac65d-8780-4fd2-8275-9fc5c5bb4fdc",
   "metadata": {},
   "source": [
    "Q2. Discuss the assumptions of linear regression. How can you check whether these assumptions hold in a given dataset?\n",
    "\n",
    "    There are primarily five assumptions of linear regression. They are:\n",
    "    1. There is a linear relationship between the predictors (x) and the outcome (y) - We can check the linearity of the data by looking at the Residual vs Fitted plot. Ideally, this plot would not have a pattern where the red line (lowes smoother) is approximately horizontal at zero.\n",
    "    2. Predictors (x) are independent and observed with negligible error - \n",
    "    3. Residual Errors have a mean value of zero\n",
    "    4. Residual Errors have constant variance\n",
    "    5. Residual Errors are independent from each other and predictors (x)"
   ]
  },
  {
   "cell_type": "markdown",
   "id": "25b249de-370b-4477-b105-ec6baffa3bc2",
   "metadata": {},
   "source": [
    "Q3. How do you interpret the slope and intercept in a linear regression model? Provide an example using a real-world scenario.\n",
    "\n",
    "    In a linear regression model, the slope and intercept are two important parameters that help interpret the relationship between the independent variable(s) and the dependent variable.\n",
    "\n",
    "    The slope represents the change in the dependent variable for each unit increase in the independent variable. It indicates the direction and magnitude of the relationship between the variables. A positive slope means that as the independent variable increases, the dependent variable tends to increase as well, while a negative slope indicates an inverse relationship.\n",
    "    \n",
    "    The intercept is the value of the dependent variable when all independent variables are set to zero. It represents the starting point or baseline value of the dependent variable.\n",
    "    \n",
    "    Let's consider a real-world scenario to illustrate this. Suppose we want to examine the relationship between the number of hours studied (independent variable) and the exam score achieved (dependent variable) in a group of students. We collect data from 50 students and perform a linear regression analysis.\n",
    "    \n",
    "    After performing the analysis, we obtain the following regression equation:\n",
    "    \n",
    "    Exam Score = 2.5 * Hours Studied + 60\n",
    "    \n",
    "    Here, the slope is 2.5, and the intercept is 60. Let's interpret these values:\n",
    "    \n",
    "    Slope: The slope of 2.5 indicates that for every additional hour studied, the expected exam score increases by 2.5 points on average. This positive slope suggests a direct and positive relationship between the number of hours studied and the exam score.\n",
    "    \n",
    "    Intercept: The intercept of 60 means that if a student doesn't study at all (i.e., zero hours studied), the expected exam score would be 60. This represents the baseline score or the score a student is expected to achieve without studying.\n",
    "    \n",
    "    Therefore, in this scenario, the linear regression model suggests that the more hours a student studies, the higher their expected exam score will be. However, it's important to note that linear regression assumes a linear relationship between the variables and other assumptions should be evaluated for a comprehensive analysis.\n"
   ]
  },
  {
   "cell_type": "markdown",
   "id": "8a8ababa-2ea1-4706-962a-145e76e3461e",
   "metadata": {},
   "source": [
    "Q4. Explain the concept of gradient descent. How is it used in machine learning?\n",
    "\n",
    "    Gradient descent is an optimization algorithm commonly used in machine learning to minimize the cost function and find the optimal values for the parameters of a model. It is particularly useful in training models such as linear regression, logistic regression, and neural networks.\n",
    "\n",
    "    The concept of gradient descent can be explained in the following steps:\n",
    "    \n",
    "    Define a Cost Function: A cost function measures the difference between the predicted output of the model and the actual output. The goal is to minimize this cost function.\n",
    "    \n",
    "    Initialize Parameters: Initially, the model's parameters (weights and biases) are assigned random values or some predefined values.\n",
    "    \n",
    "    Calculate the Gradient: The gradient is a vector of partial derivatives of the cost function with respect to each parameter. It indicates the direction and magnitude of the steepest ascent of the function.\n",
    "    \n",
    "    Update Parameters: The parameters are updated iteratively by taking steps proportional to the negative gradient. The learning rate, a hyperparameter, determines the size of the steps taken in each iteration.\n",
    "    \n",
    "    Repeat Steps 3 and 4: Steps 3 and 4 are repeated until a stopping criterion is met, such as reaching a maximum number of iterations or achieving a desired level of convergence.\n",
    "    \n",
    "    By iteratively adjusting the parameters based on the gradient, gradient descent gradually moves towards the minimum of the cost function. This process continues until the algorithm converges to a local or global minimum, depending on the shape of the cost function.\n",
    "    \n",
    "    There are two common variants of gradient descent:\n",
    "    \n",
    "    Gradient descent is used in machine learning to optimize models by finding the parameter values that minimize the cost function. By iteratively adjusting the parameters based on the gradient, models can learn from data and make accurate predictions or classifications. It is a fundamental algorithm for training a wide range of machine learning models.\n"
   ]
  },
  {
   "cell_type": "markdown",
   "id": "0f121ec3-2dee-4526-8127-6fce029bd701",
   "metadata": {},
   "source": []
  },
  {
   "cell_type": "code",
   "execution_count": null,
   "id": "52a1cf0d-c2e7-4e3a-8f53-f5fa5d60b817",
   "metadata": {},
   "outputs": [],
   "source": []
  },
  {
   "cell_type": "code",
   "execution_count": null,
   "id": "803d556f-7a0d-4dda-8ca4-9957dfe13ed7",
   "metadata": {},
   "outputs": [],
   "source": []
  },
  {
   "cell_type": "code",
   "execution_count": null,
   "id": "9288eb1b-37ae-4d4c-9f3f-702f7a63e65e",
   "metadata": {},
   "outputs": [],
   "source": []
  },
  {
   "cell_type": "code",
   "execution_count": null,
   "id": "cf18b73b-2989-4236-bc53-6d6b4e6ee9b9",
   "metadata": {},
   "outputs": [],
   "source": []
  },
  {
   "cell_type": "code",
   "execution_count": null,
   "id": "705d1522-1968-43a0-8974-590a7823a32d",
   "metadata": {},
   "outputs": [],
   "source": []
  },
  {
   "cell_type": "code",
   "execution_count": null,
   "id": "887bb52a-a954-4044-823a-78e649e0c2e3",
   "metadata": {},
   "outputs": [],
   "source": []
  },
  {
   "cell_type": "code",
   "execution_count": null,
   "id": "8939f295-bb3d-4604-8f18-3fcd8c97409a",
   "metadata": {},
   "outputs": [],
   "source": []
  },
  {
   "cell_type": "code",
   "execution_count": null,
   "id": "9fd9c237-aa2c-4889-936e-fcdcac9a395e",
   "metadata": {},
   "outputs": [],
   "source": []
  },
  {
   "cell_type": "code",
   "execution_count": null,
   "id": "2fe865a5-eefa-4f07-95ae-b2f5363d7f84",
   "metadata": {},
   "outputs": [],
   "source": []
  },
  {
   "cell_type": "code",
   "execution_count": null,
   "id": "3283779c-710c-485c-8d6e-f61d27c3713a",
   "metadata": {},
   "outputs": [],
   "source": []
  },
  {
   "cell_type": "code",
   "execution_count": null,
   "id": "c724f000-124f-4ce0-ae15-736f0206627d",
   "metadata": {},
   "outputs": [],
   "source": []
  },
  {
   "cell_type": "code",
   "execution_count": null,
   "id": "4cd0d441-1d3a-4589-bca0-cf351cff445d",
   "metadata": {},
   "outputs": [],
   "source": []
  },
  {
   "cell_type": "code",
   "execution_count": null,
   "id": "3e450dcb-8695-48a2-ac79-ace1b7b395fc",
   "metadata": {},
   "outputs": [],
   "source": []
  },
  {
   "cell_type": "code",
   "execution_count": null,
   "id": "9f7e1f39-28d7-46fc-ad9d-34752e6fb5fa",
   "metadata": {},
   "outputs": [],
   "source": []
  },
  {
   "cell_type": "code",
   "execution_count": null,
   "id": "b1671f94-9ccc-4b01-9425-004237760064",
   "metadata": {},
   "outputs": [],
   "source": []
  },
  {
   "cell_type": "code",
   "execution_count": null,
   "id": "5a714ecd-9b53-4a87-8be8-36138e5d6f13",
   "metadata": {},
   "outputs": [],
   "source": []
  },
  {
   "cell_type": "code",
   "execution_count": null,
   "id": "a5d361eb-e769-4096-98a4-e2d58225654f",
   "metadata": {},
   "outputs": [],
   "source": []
  },
  {
   "cell_type": "code",
   "execution_count": null,
   "id": "501441a9-d6e7-435f-8629-67fdb176d173",
   "metadata": {},
   "outputs": [],
   "source": []
  },
  {
   "cell_type": "code",
   "execution_count": null,
   "id": "7e5085dd-a343-4099-a5ab-e0da4671c8da",
   "metadata": {},
   "outputs": [],
   "source": []
  },
  {
   "cell_type": "code",
   "execution_count": null,
   "id": "bd1b55ba-8d6a-40c6-87ee-5da7063e0905",
   "metadata": {},
   "outputs": [],
   "source": []
  },
  {
   "cell_type": "code",
   "execution_count": null,
   "id": "c628f08c-6e6f-4b41-887a-e06a3f220c46",
   "metadata": {},
   "outputs": [],
   "source": []
  }
 ],
 "metadata": {
  "kernelspec": {
   "display_name": "Python 3 (ipykernel)",
   "language": "python",
   "name": "python3"
  },
  "language_info": {
   "codemirror_mode": {
    "name": "ipython",
    "version": 3
   },
   "file_extension": ".py",
   "mimetype": "text/x-python",
   "name": "python",
   "nbconvert_exporter": "python",
   "pygments_lexer": "ipython3",
   "version": "3.10.8"
  }
 },
 "nbformat": 4,
 "nbformat_minor": 5
}
