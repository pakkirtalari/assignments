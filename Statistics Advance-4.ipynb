{
 "cells": [
  {
   "cell_type": "markdown",
   "id": "83216a65-f92f-4715-8b17-93c8a1ac7fb5",
   "metadata": {},
   "source": [
    "Q1: What is the difference between a t-test and a z-test? Provide an example scenario where you would use each type of test.\n",
    "\n",
    "The main difference between a t-test and a z-test lies in the knowledge of population parameters. A z-test is used when the population standard deviation is known, while a t-test is used when the population standard deviation is unknown and must be estimated from the sample.\n",
    "\n",
    "Example Scenario:\n",
    "\n",
    "Z-test: You have the heights of a population and know its standard deviation. You want to test if the sample mean height is significantly different from the population mean height.\n",
    "T-test: You have a sample of exam scores from a group of students, and you want to test if their mean score is significantly different from a known population mean score.\n",
    "Q2: Differentiate between one-tailed and two-tailed tests.\n",
    "\n",
    "In a one-tailed test, the alternative hypothesis specifies a direction of the effect (e.g., greater than or less than). In a two-tailed test, the alternative hypothesis does not specify a direction and tests for any significant difference.\n",
    "\n",
    "Q3: Explain the concept of Type 1 and Type 2 errors in hypothesis testing. Provide an example scenario for each type of error.\n",
    "\n",
    "Type 1 Error (False Positive): Rejecting a true null hypothesis. Example: A medical test falsely indicates a healthy person has a disease.\n",
    "Type 2 Error (False Negative): Failing to reject a false null hypothesis. Example: A medical test fails to detect a disease in a person who actually has it.\n",
    "Q4: Explain Bayes's theorem with an example.\n",
    "\n",
    "Bayes's Theorem is a mathematical formula that calculates the probability of an event based on prior knowledge of related events. It's often used in conditional probability calculations.\n",
    "\n",
    "Example: You want to know the probability that a person has a certain disease given that they tested positive. You know the probability of testing positive if you have the disease and the overall prevalence of the disease.\n",
    "\n",
    "Q5: What is a confidence interval? How to calculate the confidence interval, explain with an example.\n",
    "\n",
    "A confidence interval is a range of values around a point estimate (e.g., a sample mean) within which the true population parameter is likely to fall with a certain level of confidence.\n",
    "\n",
    "Example: A survey finds the average income of a sample of 200 people is $50,000, and the standard deviation is $5,000. A 95% confidence interval for the true average income is calculated as $50,000 ± (1.96 * $5,000), resulting in a range of $40,800 to $59,200."
   ]
  },
  {
   "cell_type": "markdown",
   "id": "12e3ba6c-2371-4354-bd49-acbc852d96fd",
   "metadata": {},
   "source": [
    "Q6. Use Bayes' Theorem to calculate the probability of an event occurring given prior knowledge of the\n",
    "event's probability and new evidence. Provide a sample problem and solution."
   ]
  },
  {
   "cell_type": "markdown",
   "id": "14d0cd80-8b39-4461-a286-3f3fa42300cc",
   "metadata": {},
   "source": [
    "Problem: Suppose a medical test is used to detect a rare disease. The disease affects 1 in 1,000 people in the population. The test has a sensitivity of 95% (correctly identifies the disease when it's present) and a specificity of 90% (correctly identifies the absence of disease when it's not present). If a randomly selected person tests positive for the disease, what is the probability that they actually have the disease?\n",
    "\n",
    "Solution: Let's use Bayes' Theorem to solve this problem.\n",
    "\n",
    "Let A be the event that a person has the disease. Let B be the event that a person tests positive for the disease. Given:\n",
    "\n",
    "P(A) = 1/1000 (prior probability of having the disease) P(B|A) = 0.95 (sensitivity, the probability of testing positive given that you have the disease) P(not B|not A) = 0.90 (specificity, the probability of testing negative given that you don't have the disease) We want to find P(A|B), the probability of having the disease given that a person tests positive.\n",
    "\n",
    "Using Bayes' Theorem:  P(A∣B)= P(B) P(B∣A)⋅P(A)​\n",
    "\n",
    "Where: P(B)=P(B∣A)⋅P(A)+P(B∣notA)⋅P(notA)  = 1 − 0.90 = 0.10 P(B∣notA)=1−P(notB∣notA)=1−0.90=0.10  = 1 − 1 1000 = 999 1000 P(notA)=1−P(A)=1− 1000 1​= 1000 999​\n",
    "\n",
    "Now, substitute the values into the formula:  = ( 0.95 ) ⋅ ( 1 1000 ) + ( 0.10 ) ⋅ ( 999 1000 ) P(B)=(0.95)⋅( 1000 1​)+(0.10)⋅( 1000 999​)\n",
    "\n",
    "Finally, calculate P(A|B):  = ( 0.95 ) ⋅ ( 1 1000 ) ( 0.95 ) ⋅ ( 1 1000 ) + ( 0.10 ) ⋅ ( 999 1000 ) P(A∣B)= (0.95)⋅( 1000 1​)+(0.10)⋅( 1000 999​) (0.95)⋅( 1000 1​)​\n",
    "\n",
    "Calculating this will give you the probability that a person actually has the disease given that they tested positive."
   ]
  },
  {
   "cell_type": "markdown",
   "id": "d6826d9f-7e93-40b2-8d7a-2781a7b80b61",
   "metadata": {},
   "source": [
    "Q7. The 95% confidence interval for a sample of data with a mean of 50 and a standard deviation of 5 is \n",
    "[\n",
    "48.40\n",
    ",\n",
    "51.60\n",
    "]\n",
    "[48.40,51.60]. This means that we are 95% confident that the true population mean lies within this interval.\n",
    "\n",
    "Q8. The margin of error in a confidence interval is the range around the sample estimate within which we expect the true population parameter to lie with a certain level of confidence. The margin of error is influenced by the sample size: as the sample size increases, the margin of error decreases. For example, if we collect a larger sample when estimating a mean, the resulting confidence interval will likely be narrower.\n",
    "\n",
    "Q9. The z-score for a data point of 75 with a population mean of 70 and a population standard deviation of 5 is \n",
    "�\n",
    "=\n",
    "75\n",
    "−\n",
    "70\n",
    "5\n",
    "=\n",
    "1\n",
    "z= \n",
    "5\n",
    "75−70\n",
    "​\n",
    " =1. This means that the data point is 1 standard deviation above the mean.\n",
    "\n",
    "Q10. To determine if the new weight loss drug is significantly effective at a 95% confidence level using a t-test, you would set up a null hypothesis and an alternative hypothesis, calculate the t-statistic, and compare it to the critical t-value from the t-distribution. If the calculated t-statistic exceeds the critical t-value, you may reject the null hypothesis, indicating that the drug is significantly effective.\n",
    "\n",
    "Q11. The 95% confidence interval for the true proportion of people satisfied with their job is approximately \n",
    "[\n",
    "0.611\n",
    ",\n",
    "0.689\n",
    "]\n",
    "[0.611,0.689]. This means we are 95% confident that the true proportion of satisfied people lies within this interval.\n",
    "\n",
    "Q12. Conducting a t-test with a significance level of 0.01 can determine if there is a significant difference in student performance between the two teaching methods. Calculate the t-statistic and compare it to the critical t-value for a two-tailed test at the 0.01 significance level. If the calculated t-statistic is beyond the critical t-value, you may conclude that there is a significant difference.\n",
    "\n",
    "Q13. The 90% confidence interval for the true population mean is \n",
    "[\n",
    "62.02\n",
    ",\n",
    "67.98\n",
    "]\n",
    "[62.02,67.98].\n",
    "\n",
    "Q14. Conduct a t-test at a 90% confidence level to determine if caffeine has a significant effect on reaction time. Calculate the t-statistic and compare it to the critical t-value. If the calculated t-statistic is beyond the critical t-value, you may conclude that caffeine has a significant effect on reaction time."
   ]
  },
  {
   "cell_type": "code",
   "execution_count": null,
   "id": "4509d218-29e8-456e-8b3c-b83d0fbc4128",
   "metadata": {},
   "outputs": [],
   "source": []
  }
 ],
 "metadata": {
  "kernelspec": {
   "display_name": "Python 3 (ipykernel)",
   "language": "python",
   "name": "python3"
  },
  "language_info": {
   "codemirror_mode": {
    "name": "ipython",
    "version": 3
   },
   "file_extension": ".py",
   "mimetype": "text/x-python",
   "name": "python",
   "nbconvert_exporter": "python",
   "pygments_lexer": "ipython3",
   "version": "3.10.8"
  }
 },
 "nbformat": 4,
 "nbformat_minor": 5
}
