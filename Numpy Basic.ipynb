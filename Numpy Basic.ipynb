{
 "cells": [
  {
   "cell_type": "markdown",
   "id": "65bbd13f-ba35-4a1d-bdf8-9874a561a769",
   "metadata": {},
   "source": [
    "Q1. Is there any difference in the data type of variables list_ and array_list? If there is then write a code to print the data types of both the variables.\n",
    "\n",
    "Yes, there is a difference in the data type of variables list_ and array_list. list_ is likely a Python list, while array_list is presumably a NumPy array. You can use the type() function to check the data types."
   ]
  },
  {
   "cell_type": "code",
   "execution_count": 1,
   "id": "1acbb344-09a7-4b9b-a64d-18532776f7f3",
   "metadata": {},
   "outputs": [
    {
     "name": "stdout",
     "output_type": "stream",
     "text": [
      "Data type of list_: <class 'list'>\n",
      "Data type of array_list: <class 'numpy.ndarray'>\n"
     ]
    }
   ],
   "source": [
    "import numpy as np\n",
    "\n",
    "list_ = [1, 2, 3, 4, 5]\n",
    "array_list = np.array(list_)\n",
    "\n",
    "print(\"Data type of list_:\", type(list_))\n",
    "print(\"Data type of array_list:\", type(array_list))\n"
   ]
  },
  {
   "cell_type": "markdown",
   "id": "4ea1d88d-cb31-4a83-8de5-8e3d890a9bb3",
   "metadata": {},
   "source": [
    "Q2. Write a code to print the data type of each and every element of both the variables list_ and array_list."
   ]
  },
  {
   "cell_type": "code",
   "execution_count": 2,
   "id": "43847148-ec55-48cc-a6f3-e0cd6900f511",
   "metadata": {},
   "outputs": [
    {
     "name": "stdout",
     "output_type": "stream",
     "text": [
      "Data type of element in list_: <class 'int'>\n",
      "Data type of element in list_: <class 'int'>\n",
      "Data type of element in list_: <class 'int'>\n",
      "Data type of element in list_: <class 'int'>\n",
      "Data type of element in list_: <class 'int'>\n",
      "Data type of element in array_list: int64\n",
      "Data type of element in array_list: int64\n",
      "Data type of element in array_list: int64\n",
      "Data type of element in array_list: int64\n",
      "Data type of element in array_list: int64\n"
     ]
    }
   ],
   "source": [
    "for element in list_:\n",
    "    print(\"Data type of element in list_:\", type(element))\n",
    "\n",
    "for element in array_list:\n",
    "    print(\"Data type of element in array_list:\", element.dtype)\n"
   ]
  },
  {
   "cell_type": "markdown",
   "id": "2f5e1c53-3386-4ab6-924c-1c759e91b124",
   "metadata": {},
   "source": [
    "Q3. Considering the following changes in the variable array_list:"
   ]
  },
  {
   "cell_type": "code",
   "execution_count": 3,
   "id": "16955ea1-c7e3-48ca-9763-3a444b3ae247",
   "metadata": {},
   "outputs": [],
   "source": [
    "array_list = np.array(object=list_, dtype=int)\n"
   ]
  },
  {
   "cell_type": "markdown",
   "id": "bbf05077-78dc-4c84-825f-046ead61f289",
   "metadata": {},
   "source": [
    "Yes, there will be a difference in the data type of the elements present in both the variables list_ and array_list. All the elements in array_list will be explicitly converted to the int data type. To print the data types of each element, you can modify the code in the previous answer."
   ]
  },
  {
   "cell_type": "markdown",
   "id": "1349dac8-c367-45e2-bd51-6c3337675270",
   "metadata": {},
   "source": [
    "Q4. Write a code to find the following characteristics of variable, num_array: (i) shape (ii) size"
   ]
  },
  {
   "cell_type": "code",
   "execution_count": 4,
   "id": "36ea6bf9-dc8c-4ae8-8b13-f9079dac5fa1",
   "metadata": {},
   "outputs": [
    {
     "name": "stdout",
     "output_type": "stream",
     "text": [
      "Shape of num_array: (2, 3)\n",
      "Size of num_array: 6\n"
     ]
    }
   ],
   "source": [
    "import numpy as np\n",
    "\n",
    "num_list = [[1, 2, 3], [4, 5, 6]]\n",
    "num_array = np.array(object=num_list)\n",
    "\n",
    "print(\"Shape of num_array:\", num_array.shape)\n",
    "print(\"Size of num_array:\", num_array.size)\n"
   ]
  },
  {
   "cell_type": "markdown",
   "id": "eb22c49c-15a3-4097-9447-09ddd8e71108",
   "metadata": {},
   "source": [
    "Q5. Write a code to create a numpy array of a 3x3 matrix containing zeros only, using a numpy array creation function."
   ]
  },
  {
   "cell_type": "code",
   "execution_count": 5,
   "id": "029e98c2-cae5-4822-ae6b-5fb544a31dbc",
   "metadata": {},
   "outputs": [
    {
     "name": "stdout",
     "output_type": "stream",
     "text": [
      "Zero array:\n",
      " [[0. 0. 0.]\n",
      " [0. 0. 0.]\n",
      " [0. 0. 0.]]\n"
     ]
    }
   ],
   "source": [
    "import numpy as np\n",
    "\n",
    "zero_array = np.zeros((3, 3))\n",
    "print(\"Zero array:\\n\", zero_array)\n"
   ]
  },
  {
   "cell_type": "markdown",
   "id": "abbb93f1-2516-4231-abfb-b71d78917736",
   "metadata": {},
   "source": [
    "Q6. Create an identity matrix of shape (5, 5) using numpy functions?"
   ]
  },
  {
   "cell_type": "code",
   "execution_count": 6,
   "id": "eeff249e-1a4a-440e-be71-df927d708af1",
   "metadata": {},
   "outputs": [
    {
     "name": "stdout",
     "output_type": "stream",
     "text": [
      "Identity matrix:\n",
      " [[1. 0. 0. 0. 0.]\n",
      " [0. 1. 0. 0. 0.]\n",
      " [0. 0. 1. 0. 0.]\n",
      " [0. 0. 0. 1. 0.]\n",
      " [0. 0. 0. 0. 1.]]\n"
     ]
    }
   ],
   "source": [
    "import numpy as np\n",
    "\n",
    "identity_matrix = np.eye(5)\n",
    "print(\"Identity matrix:\\n\", identity_matrix)\n"
   ]
  },
  {
   "cell_type": "code",
   "execution_count": null,
   "id": "5a9490a7-a0e4-4be9-b505-17d3d3351d87",
   "metadata": {},
   "outputs": [],
   "source": []
  }
 ],
 "metadata": {
  "kernelspec": {
   "display_name": "Python 3 (ipykernel)",
   "language": "python",
   "name": "python3"
  },
  "language_info": {
   "codemirror_mode": {
    "name": "ipython",
    "version": 3
   },
   "file_extension": ".py",
   "mimetype": "text/x-python",
   "name": "python",
   "nbconvert_exporter": "python",
   "pygments_lexer": "ipython3",
   "version": "3.10.8"
  }
 },
 "nbformat": 4,
 "nbformat_minor": 5
}
