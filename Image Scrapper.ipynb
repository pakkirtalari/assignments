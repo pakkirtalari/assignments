{
 "cells": [
  {
   "cell_type": "code",
   "execution_count": null,
   "id": "7523c524-939a-45ad-b5bb-d21e015a0b61",
   "metadata": {},
   "outputs": [],
   "source": [
    "\n",
    "import requests\n",
    "from bs4 import BeautifulSoup\n",
    "import csv\n",
    "\n",
    "# URL of the YouTube channel\n",
    "url = \"https://www.youtube.com/@PW-Foundation/videos\"\n",
    "\n",
    "# Send a GET request to the URL\n",
    "response = requests.get(url)\n",
    "\n",
    "# Parse the HTML content using BeautifulSoup\n",
    "soup = BeautifulSoup(response.content, \"html.parser\")\n",
    "\n",
    "# Lists to store data\n",
    "video_urls = []\n",
    "thumbnail_urls = []\n",
    "titles = []\n",
    "view_counts = []\n",
    "post_times = []\n",
    "\n",
    "# Extract data from the HTML using appropriate CSS selectors\n",
    "video_elements = soup.select(\"h3 > a#video-title\")\n",
    "thumbnail_elements = soup.select(\"yt-img-shadow img\")\n",
    "view_count_elements = soup.select(\"span.style-scope.ytd-grid-video-renderer\")\n",
    "post_time_elements = soup.select(\"div.style-scope.ytd-grid-video-renderer > span\")\n",
    "\n",
    "# Iterate over the elements to extract data\n",
    "for i in range(5):  # First five videos\n",
    "    video_url = \"https://www.youtube.com\" + video_elements[i][\"href\"]\n",
    "    video_urls.append(video_url)\n",
    "    \n",
    "    thumbnail_url = thumbnail_elements[i][\"src\"]\n",
    "    thumbnail_urls.append(thumbnail_url)\n",
    "    \n",
    "    title = video_elements[i].text.strip()\n",
    "    titles.append(title)\n",
    "    \n",
    "    view_count = view_count_elements[i].text.strip()\n",
    "    view_counts.append(view_count)\n",
    "    \n",
    "    post_time = post_time_elements[i].text.strip()\n",
    "    post_times.append(post_time)\n",
    "\n",
    "# Save the scraped data to a CSV file\n",
    "with open(\"youtube_data.csv\", \"w\", newline=\"\", encoding=\"utf-8\") as csvfile:\n",
    "    csv_writer = csv.writer(csvfile)\n",
    "    csv_writer.writerow([\"Video URL\", \"Thumbnail URL\", \"Title\", \"View Count\", \"Post Time\"])\n",
    "    \n",
    "    for i in range(5):\n",
    "        csv_writer.writerow([video_urls[i], thumbnail_urls[i], titles[i], view_counts[i], post_times[i]])"
   ]
  },
  {
   "cell_type": "code",
   "execution_count": null,
   "id": "99e19a43-3104-434a-a946-7c6cd7679021",
   "metadata": {},
   "outputs": [],
   "source": []
  }
 ],
 "metadata": {
  "kernelspec": {
   "display_name": "Python 3 (ipykernel)",
   "language": "python",
   "name": "python3"
  },
  "language_info": {
   "codemirror_mode": {
    "name": "ipython",
    "version": 3
   },
   "file_extension": ".py",
   "mimetype": "text/x-python",
   "name": "python",
   "nbconvert_exporter": "python",
   "pygments_lexer": "ipython3",
   "version": "3.10.8"
  }
 },
 "nbformat": 4,
 "nbformat_minor": 5
}
